{
 "cells": [
  {
   "cell_type": "markdown",
   "metadata": {},
   "source": [
    "## Задание 1"
   ]
  },
  {
   "cell_type": "markdown",
   "metadata": {},
   "source": [
    "Напишите функцию, которая возвращает название валюты (поле ‘Name’) с максимальным значением курса с помощью сервиса https://www.cbr-xml-daily.ru/daily_json.js"
   ]
  },
  {
   "cell_type": "code",
   "execution_count": 3,
   "metadata": {},
   "outputs": [
    {
     "data": {
      "text/plain": [
       "'Датских крон'"
      ]
     },
     "execution_count": 3,
     "metadata": {},
     "output_type": "execute_result"
    }
   ],
   "source": [
    "import requests\n",
    "\n",
    "RATES_URL = 'https://www.cbr-xml-daily.ru/daily_json.js'\n",
    "\n",
    "def get_max_value(url):\n",
    "    rates = requests.get(url).json()\n",
    "    max_rate = max(\n",
    "        rates['Valute'].values(),\n",
    "        key=lambda rate: rate['Value']\n",
    "    )\n",
    "    return max_rate.get('Name')\n",
    "\n",
    "get_max_value(RATES_URL)"
   ]
  },
  {
   "cell_type": "markdown",
   "metadata": {},
   "source": [
    "## Задание 2"
   ]
  },
  {
   "cell_type": "markdown",
   "metadata": {},
   "source": [
    "Добавьте в класс Rate параметр diff (со значениями True или False), который в случае значения True в методах eur и usd будет возвращать не курс валюты, а изменение по сравнению в прошлым значением. Считайте, self.diff будет принимать значение True только при возврате значения курса. При отображении всей информации о валюте он не используется."
   ]
  },
  {
   "cell_type": "code",
   "execution_count": 6,
   "metadata": {},
   "outputs": [
    {
     "name": "stdout",
     "output_type": "stream",
     "text": [
      "mode=full, diff=False\n",
      "1 >>> {'ID': 'R01235', 'NumCode': '840', 'CharCode': 'USD', 'Nominal': 1, 'Name': 'Доллар США', 'Value': 66.784, 'Previous': 66.6082}\n",
      "2 >>> {'ID': 'R01239', 'NumCode': '978', 'CharCode': 'EUR', 'Nominal': 1, 'Name': 'Евро', 'Value': 73.9766, 'Previous': 73.9484}\n",
      "mode=currency, diff=False\n",
      "3 >>> 66.784\n",
      "4 >>> 73.9766\n",
      "mode=currency, diff=True\n",
      "5 >>> 0.1758000000000095\n",
      "6 >>> 0.028199999999998226\n"
     ]
    }
   ],
   "source": [
    "# new import make cells independent\n",
    "import requests\n",
    "\n",
    "class Logger:\n",
    "    log_count = 0\n",
    "    \n",
    "    @staticmethod\n",
    "    def num_print(*args):\n",
    "        Logger.log_count = Logger.log_count + 1\n",
    "        print(f'{Logger.log_count} >>>', *args)\n",
    "\n",
    "RATES_URL = 'https://www.cbr-xml-daily.ru/daily_json.js'\n",
    "\n",
    "class Rates:\n",
    "    # initialize static variable\n",
    "    FULL_MODE_NAME = 'full'\n",
    "    CURRENCY_MODE_NAME = 'currency'\n",
    "    rates_list = requests.get('https://www.cbr-xml-daily.ru/daily_json.js').json()['Valute']\n",
    "    \n",
    "    def __init__(self, mode=Rates.FULL_MODE_NAME, diff=False) -> None:\n",
    "        \"\"\"\n",
    "        @param mode?: enum<'full', 'currency'>\n",
    "        @param diff?: bool\n",
    "        \"\"\"\n",
    "        self.mode = mode\n",
    "        self.diff = diff\n",
    "        \n",
    "    def set_full_mode(self) -> None:\n",
    "        self.mode = Rates.FULL_MODE_NAME\n",
    "        \n",
    "    def set_currency_mode(self) -> None:\n",
    "        self.mode = Rates.CURRENCY_MODE_NAME\n",
    "        \n",
    "    def set_diff_on(self) -> None:\n",
    "        self.diff = True\n",
    "        \n",
    "    def set_diff_off(self) -> None:\n",
    "        self.diff = False\n",
    "    \n",
    "    def get_rate(self, rate_name) -> dict:\n",
    "        current_rate = Rates.rates_list[rate_name]\n",
    "        \n",
    "        if self.mode == Rates.FULL_MODE_NAME:\n",
    "            return current_rate\n",
    "        \n",
    "        if self.diff:\n",
    "            return current_rate.get('Value') - current_rate.get('Previous')\n",
    "        \n",
    "        return current_rate.get('Value')\n",
    "    \n",
    "    def usd(self):\n",
    "        return self.get_rate('USD')\n",
    "    \n",
    "    def eur(self):\n",
    "        return self.get_rate('EUR')\n",
    "        \n",
    "\n",
    "rate = Rates()\n",
    "\n",
    "print('mode=full, diff=False')\n",
    "Logger.num_print(rate.usd()) # 1\n",
    "Logger.num_print(rate.eur()) # 2\n",
    "\n",
    "rate.set_currency_mode()\n",
    "print('mode=currency, diff=False')\n",
    "Logger.num_print(rate.usd()) # 3\n",
    "Logger.num_print(rate.eur()) # 4\n",
    "\n",
    "rate.set_diff_on()\n",
    "print('mode=currency, diff=True')\n",
    "Logger.num_print(rate.usd()) # 5\n",
    "Logger.num_print(rate.eur()) # 6"
   ]
  },
  {
   "cell_type": "markdown",
   "metadata": {},
   "source": [
    "## Задание 3"
   ]
  },
  {
   "cell_type": "markdown",
   "metadata": {},
   "source": [
    "Напишите класс Designer, который учитывает количество международных премий. Подсказки в коде занятия в разделе “Домашнее задание задача 3”."
   ]
  },
  {
   "cell_type": "code",
   "execution_count": 9,
   "metadata": {},
   "outputs": [],
   "source": [
    "# from lesson notebook\n",
    "class Employee:\n",
    "    def __init__(self, name, seniority):\n",
    "        self.name = name\n",
    "        self.seniority = seniority\n",
    "        \n",
    "    @property\n",
    "    def grade(self):\n",
    "        return floor(self.seniority / 2)\n",
    "    \n",
    "    def publish_grade(self):\n",
    "        \"\"\"Публикация результатов аккредитации сотрудников\"\"\"\n",
    "        print(self.name, self.grade)"
   ]
  },
  {
   "cell_type": "code",
   "execution_count": 10,
   "metadata": {},
   "outputs": [
    {
     "name": "stdout",
     "output_type": "stream",
     "text": [
      "Елена 1\n",
      "Елена 1\n",
      "Елена 1\n",
      "Елена 1\n",
      "Елена 1\n",
      "Елена 1\n",
      "Елена 1\n",
      "Елена 2\n",
      "Елена 2\n",
      "Елена 2\n",
      "Елена 2\n",
      "Елена 2\n",
      "Елена 2\n",
      "Елена 2\n",
      "Елена 3\n",
      "Елена 3\n",
      "Елена 3\n",
      "Елена 3\n",
      "Елена 3\n",
      "Елена 3\n",
      "New prize!\n",
      "New prize!\n",
      "New prize!\n",
      "New prize!\n",
      "New prize!\n",
      "Елена 5\n",
      "Елена 5\n",
      "Елена 5\n",
      "Елена 5\n",
      "Елена 5\n",
      "Елена 6\n",
      "Елена 6\n",
      "Елена 6\n",
      "Елена 6\n",
      "Елена 6\n",
      "Елена 6\n",
      "Елена 6\n",
      "Елена 7\n",
      "Елена 7\n",
      "Елена 7\n",
      "Елена 7\n",
      "Елена 7\n",
      "Елена 7\n",
      "Елена 7\n",
      "Елена 8\n"
     ]
    }
   ],
   "source": [
    "# my work\n",
    "from math import floor\n",
    "\n",
    "class Designer(Employee):\n",
    "    def __init__(self, name, seniority, inter_prize=2):\n",
    "        super().__init__(name, seniority)\n",
    "        self.inter_prize = inter_prize;\n",
    "\n",
    "    @property\n",
    "    def grade(self):\n",
    "        return floor((self.inter_prize * 2 + self.seniority) / 7)\n",
    "    \n",
    "    def give_a_prize(self):\n",
    "        print('New prize!')\n",
    "        self.inter_prize += 1\n",
    "        \n",
    "    def check_if_it_is_time_for_upgrade(self):\n",
    "        self.seniority += 1\n",
    "\n",
    "        return self.publish_grade()\n",
    "        \n",
    "elena = Designer(\n",
    "    name='Елена',\n",
    "    seniority=2\n",
    ");\n",
    "\n",
    "for i in range(20):\n",
    "    elena.check_if_it_is_time_for_upgrade()\n",
    "    \n",
    "for i in range(5):\n",
    "    elena.give_a_prize()\n",
    "\n",
    "for i in range(20):\n",
    "    elena.check_if_it_is_time_for_upgrade()\n"
   ]
  }
 ],
 "metadata": {
  "kernelspec": {
   "display_name": "Python 3",
   "language": "python",
   "name": "python3"
  },
  "language_info": {
   "codemirror_mode": {
    "name": "ipython",
    "version": 3
   },
   "file_extension": ".py",
   "mimetype": "text/x-python",
   "name": "python",
   "nbconvert_exporter": "python",
   "pygments_lexer": "ipython3",
   "version": "3.7.3"
  }
 },
 "nbformat": 4,
 "nbformat_minor": 2
}
